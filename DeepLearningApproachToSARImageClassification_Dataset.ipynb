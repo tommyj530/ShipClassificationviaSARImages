{
  "nbformat": 4,
  "nbformat_minor": 0,
  "metadata": {
    "kernelspec": {
      "display_name": "Python 3",
      "language": "python",
      "name": "python3"
    },
    "language_info": {
      "codemirror_mode": {
        "name": "ipython",
        "version": 3
      },
      "file_extension": ".py",
      "mimetype": "text/x-python",
      "name": "python",
      "nbconvert_exporter": "python",
      "pygments_lexer": "ipython3",
      "version": "3.7.6"
    },
    "papermill": {
      "duration": 370.891062,
      "end_time": "2020-09-29T00:16:23.864990",
      "environment_variables": {},
      "exception": null,
      "input_path": "__notebook__.ipynb",
      "output_path": "__notebook__.ipynb",
      "parameters": {},
      "start_time": "2020-09-29T00:10:12.973928",
      "version": "2.1.0"
    },
    "colab": {
      "name": "DeepLearningApproachToSARImageClassification_Dataset.ipynb",
      "private_outputs": true,
      "provenance": [],
      "collapsed_sections": [],
      "include_colab_link": true
    },
    "accelerator": "GPU"
  },
  "cells": [
    {
      "cell_type": "markdown",
      "metadata": {
        "id": "view-in-github",
        "colab_type": "text"
      },
      "source": [
        "<a href=\"https://colab.research.google.com/github/tommyj530/ShipClassificationviaSARImages/blob/main/DeepLearningApproachToSARImageClassification_Dataset.ipynb\" target=\"_parent\"><img src=\"https://colab.research.google.com/assets/colab-badge.svg\" alt=\"Open In Colab\"/></a>"
      ]
    },
    {
      "cell_type": "markdown",
      "metadata": {
        "id": "Gno3dVVCw6Qs"
      },
      "source": [
        "# SAR Image Classification: Dataset Preparation \r\n",
        "EE543 Radar Basics and Applications \r\n",
        "\r\n",
        "By Thomas Jung\r\n",
        "\r\n"
      ]
    },
    {
      "cell_type": "code",
      "metadata": {
        "id": "iATvxN8Zcj9T"
      },
      "source": [
        "pip install opencv-python"
      ],
      "execution_count": null,
      "outputs": []
    },
    {
      "cell_type": "code",
      "metadata": {
        "execution": {
          "iopub.execute_input": "2020-09-29T00:10:18.012794Z",
          "iopub.status.busy": "2020-09-29T00:10:18.011787Z",
          "iopub.status.idle": "2020-09-29T00:10:25.490201Z",
          "shell.execute_reply": "2020-09-29T00:10:25.489473Z"
        },
        "papermill": {
          "duration": 7.50649,
          "end_time": "2020-09-29T00:10:25.490337",
          "exception": false,
          "start_time": "2020-09-29T00:10:17.983847",
          "status": "completed"
        },
        "tags": [],
        "id": "3j_e64fISLKd"
      },
      "source": [
        "import math\n",
        "import numpy as np \n",
        "import pandas as pd \n",
        "from PIL import Image, ImageDraw\n",
        "\n",
        "import matplotlib.pyplot as plt\n",
        "import seaborn as sns\n",
        "\n",
        "from tqdm.notebook import tqdm_notebook as tqdm\n",
        "\n",
        "import random\n",
        "import cv2\n",
        "import splitfolders"
      ],
      "execution_count": null,
      "outputs": []
    },
    {
      "cell_type": "code",
      "metadata": {
        "_cell_guid": "79c7e3d0-c299-4dcb-8224-4455121ee9b0",
        "_uuid": "d629ff2d2480ee46fbb7e2d37f6b5fab8052498a",
        "execution": {
          "iopub.execute_input": "2020-09-29T00:10:25.533544Z",
          "iopub.status.busy": "2020-09-29T00:10:25.532790Z",
          "iopub.status.idle": "2020-09-29T00:10:26.237229Z",
          "shell.execute_reply": "2020-09-29T00:10:26.236426Z"
        },
        "papermill": {
          "duration": 0.728773,
          "end_time": "2020-09-29T00:10:26.237353",
          "exception": false,
          "start_time": "2020-09-29T00:10:25.508580",
          "status": "completed"
        },
        "tags": [],
        "id": "YsmUFtloSLKp"
      },
      "source": [
        "train_img_dir = 'Downloads/ship_classification/train_v2/'\n",
        "train_seg_csv = 'Downloads/ship_classification/train_ship_segmentations_v2.csv'\n",
        "test_img_dir = 'Downloads/ship_classification/test_v2'\n",
        "traincsv = pd.read_csv('Downloads/ship_classification/train_ship_segmentations_v2.csv')\n",
        "\n",
        "train_img_reduced_dir = 'Downloads/ship_classification_reduced_dataset/'\n",
        "test_img_reduced_dir = 'Downloads/ship_classification_test/'"
      ],
      "execution_count": null,
      "outputs": []
    },
    {
      "cell_type": "code",
      "metadata": {
        "execution": {
          "iopub.execute_input": "2020-09-29T00:10:26.288850Z",
          "iopub.status.busy": "2020-09-29T00:10:26.287714Z",
          "iopub.status.idle": "2020-09-29T00:10:26.297969Z",
          "shell.execute_reply": "2020-09-29T00:10:26.297218Z"
        },
        "papermill": {
          "duration": 0.042602,
          "end_time": "2020-09-29T00:10:26.298089",
          "exception": false,
          "start_time": "2020-09-29T00:10:26.255487",
          "status": "completed"
        },
        "tags": [],
        "id": "ewfzw8-2SLKq"
      },
      "source": [
        "traincsv.head()"
      ],
      "execution_count": null,
      "outputs": []
    },
    {
      "cell_type": "markdown",
      "metadata": {
        "id": "ljOaVcwBwU0H"
      },
      "source": [
        "Adding labels"
      ]
    },
    {
      "cell_type": "code",
      "metadata": {
        "execution": {
          "iopub.execute_input": "2020-09-29T00:10:26.371475Z",
          "iopub.status.busy": "2020-09-29T00:10:26.370426Z",
          "iopub.status.idle": "2020-09-29T00:10:26.665455Z",
          "shell.execute_reply": "2020-09-29T00:10:26.664787Z"
        },
        "papermill": {
          "duration": 0.348422,
          "end_time": "2020-09-29T00:10:26.665611",
          "exception": false,
          "start_time": "2020-09-29T00:10:26.317189",
          "status": "completed"
        },
        "tags": [],
        "id": "aQ6uSahSSLKt"
      },
      "source": [
        "c=[]\n",
        "for i in (traincsv[\"EncodedPixels\"].notnull()):\n",
        "\n",
        "    if i==True:\n",
        "        c.append(1)\n",
        "    else:\n",
        "        c.append(0)\n",
        "        \n",
        "traincsv[\"class\"]=c\n",
        "\n",
        "traincsv_unique = traincsv.drop_duplicates(subset=['ImageId'], keep='first')\n",
        "\n",
        "print(traincsv_unique.head())\n",
        "print(\"\\n Shape of the Dataframe:\",traincsv_unique.shape)"
      ],
      "execution_count": null,
      "outputs": []
    },
    {
      "cell_type": "markdown",
      "metadata": {
        "id": "TGDSB0trwXWG"
      },
      "source": [
        "Selecting 10000 train images and 1000 test images from the original dataset"
      ]
    },
    {
      "cell_type": "code",
      "metadata": {
        "execution": {
          "iopub.execute_input": "2020-09-29T00:10:26.711088Z",
          "iopub.status.busy": "2020-09-29T00:10:26.710323Z",
          "iopub.status.idle": "2020-09-29T00:10:26.745628Z",
          "shell.execute_reply": "2020-09-29T00:10:26.744937Z"
        },
        "papermill": {
          "duration": 0.060855,
          "end_time": "2020-09-29T00:10:26.745756",
          "exception": false,
          "start_time": "2020-09-29T00:10:26.684901",
          "status": "completed"
        },
        "tags": [],
        "id": "dgkc2idVSLKu"
      },
      "source": [
        "traincsv_unique = traincsv_unique.sort_values(by = [\"class\"])\n",
        "traincsv_unique.reset_index(drop = True, inplace = True)\n",
        "\n",
        "temp = traincsv_unique\n",
        "traincsv_unique = pd.concat([traincsv_unique.loc[:4999], traincsv_unique.loc[187556:]])\n",
        "testcsv_unique = pd.concat([temp.loc[5000:5499], temp.loc[180000:180499]])"
      ],
      "execution_count": null,
      "outputs": []
    },
    {
      "cell_type": "code",
      "metadata": {
        "execution": {
          "iopub.execute_input": "2020-09-29T00:10:26.795495Z",
          "iopub.status.busy": "2020-09-29T00:10:26.794499Z",
          "iopub.status.idle": "2020-09-29T00:10:26.799252Z",
          "shell.execute_reply": "2020-09-29T00:10:26.798678Z"
        },
        "papermill": {
          "duration": 0.034164,
          "end_time": "2020-09-29T00:10:26.799378",
          "exception": false,
          "start_time": "2020-09-29T00:10:26.765214",
          "status": "completed"
        },
        "tags": [],
        "id": "WTjsj3ehSLKv"
      },
      "source": [
        "traincsv_unique[\"class\"].value_counts()"
      ],
      "execution_count": null,
      "outputs": []
    },
    {
      "cell_type": "code",
      "metadata": {
        "id": "RqyLlPVbutb1"
      },
      "source": [
        "testcsv_unique[\"class\"].value_counts()"
      ],
      "execution_count": null,
      "outputs": []
    },
    {
      "cell_type": "code",
      "metadata": {
        "execution": {
          "iopub.execute_input": "2020-09-29T00:10:26.845453Z",
          "iopub.status.busy": "2020-09-29T00:10:26.844559Z",
          "iopub.status.idle": "2020-09-29T00:10:26.847711Z",
          "shell.execute_reply": "2020-09-29T00:10:26.846981Z"
        },
        "papermill": {
          "duration": 0.02828,
          "end_time": "2020-09-29T00:10:26.847833",
          "exception": false,
          "start_time": "2020-09-29T00:10:26.819553",
          "status": "completed"
        },
        "tags": [],
        "id": "KpewxY-tSLKv"
      },
      "source": [
        "paths = traincsv_unique[\"ImageId\"]\n",
        "paths_test = testcsv_unique[\"ImageId\"]"
      ],
      "execution_count": null,
      "outputs": []
    },
    {
      "cell_type": "markdown",
      "metadata": {
        "id": "Zkj6DAfpwtId"
      },
      "source": [
        "Saving train images in a separate folder"
      ]
    },
    {
      "cell_type": "code",
      "metadata": {
        "execution": {
          "iopub.execute_input": "2020-09-29T00:10:26.922375Z",
          "iopub.status.busy": "2020-09-29T00:10:26.898022Z",
          "iopub.status.idle": "2020-09-29T00:13:45.561499Z",
          "shell.execute_reply": "2020-09-29T00:13:45.562306Z"
        },
        "papermill": {
          "duration": 198.694286,
          "end_time": "2020-09-29T00:13:45.562556",
          "exception": false,
          "start_time": "2020-09-29T00:10:26.868270",
          "status": "completed"
        },
        "tags": [],
        "id": "VgEmsNFCSLKw"
      },
      "source": [
        "for i, f in tqdm(enumerate(paths)):\n",
        "  img = Image.open(train_img_dir+f)\n",
        "  img = img.convert('RGB')\n",
        "\n",
        "  if i <= 5000:\n",
        "    img.save(train_img_reduced_dir+'0/'+f)\n",
        "  else:\n",
        "    img.save(train_img_reduced_dir+'1/'+f)"
      ],
      "execution_count": null,
      "outputs": []
    },
    {
      "cell_type": "markdown",
      "metadata": {
        "id": "SgcAE0Iuwy9e"
      },
      "source": [
        "Saving test images"
      ]
    },
    {
      "cell_type": "code",
      "metadata": {
        "id": "wYEGMngLvZcW"
      },
      "source": [
        "for i, f in tqdm(enumerate(paths_test)):\r\n",
        "  img = Image.open(train_img_dir+f)\r\n",
        "  img = img.convert('RGB')\r\n",
        "\r\n",
        "  if i <= 500:\r\n",
        "    img.save(test_img_reduced_dir+'0/'+f)\r\n",
        "  else:\r\n",
        "    img.save(test_img_reduced_dir+'1/'+f)"
      ],
      "execution_count": null,
      "outputs": []
    },
    {
      "cell_type": "markdown",
      "metadata": {
        "id": "4pmUg2W9w15e"
      },
      "source": [
        "Splitting train images into train and validation "
      ]
    },
    {
      "cell_type": "code",
      "metadata": {
        "id": "0245KqGQeQmR"
      },
      "source": [
        "# Split with a ratio.\r\n",
        "# To only split into training and validation set, set a tuple to `ratio`, i.e, `(.8, .2)`.\r\n",
        "splitfolders.ratio(\"Downloads/ship_classification_reduced_dataset\", output=\"Downloads/ship_classification_train_val\", seed=1337, ratio=(.8, .2), group_prefix=None) # default values\r\n"
      ],
      "execution_count": null,
      "outputs": []
    }
  ]
}