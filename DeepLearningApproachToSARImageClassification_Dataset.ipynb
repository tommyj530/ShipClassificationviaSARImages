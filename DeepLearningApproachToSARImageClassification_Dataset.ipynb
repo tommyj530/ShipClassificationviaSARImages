{
  "nbformat": 4,
  "nbformat_minor": 0,
  "metadata": {
    "kernelspec": {
      "display_name": "Python 3",
      "language": "python",
      "name": "python3"
    },
    "language_info": {
      "codemirror_mode": {
        "name": "ipython",
        "version": 3
      },
      "file_extension": ".py",
      "mimetype": "text/x-python",
      "name": "python",
      "nbconvert_exporter": "python",
      "pygments_lexer": "ipython3",
      "version": "3.7.6"
    },
    "papermill": {
      "duration": 370.891062,
      "end_time": "2020-09-29T00:16:23.864990",
      "environment_variables": {},
      "exception": null,
      "input_path": "__notebook__.ipynb",
      "output_path": "__notebook__.ipynb",
      "parameters": {},
      "start_time": "2020-09-29T00:10:12.973928",
      "version": "2.1.0"
    },
    "colab": {
      "name": "DeepLearningApproachToSARImageClassification_Dataset.ipynb",
      "provenance": [],
      "collapsed_sections": [],
      "include_colab_link": true
    },
    "accelerator": "GPU"
  },
  "cells": [
    {
      "cell_type": "markdown",
      "metadata": {
        "id": "view-in-github",
        "colab_type": "text"
      },
      "source": [
        "<a href=\"https://colab.research.google.com/github/tommyj530/ShipClassificationviaSARImages/blob/main/DeepLearningApproachToSARImageClassification_Dataset.ipynb\" target=\"_parent\"><img src=\"https://colab.research.google.com/assets/colab-badge.svg\" alt=\"Open In Colab\"/></a>"
      ]
    },
    {
      "cell_type": "markdown",
      "metadata": {
        "id": "Gno3dVVCw6Qs"
      },
      "source": [
        "# SAR Image Classification: Dataset Preparation \r\n",
        "EE543 Radar Basics and Applications \r\n",
        "\r\n",
        "By Thomas Jung\r\n",
        "\r\n"
      ]
    },
    {
      "cell_type": "code",
      "metadata": {
        "id": "iATvxN8Zcj9T",
        "colab": {
          "base_uri": "https://localhost:8080/"
        },
        "outputId": "60834950-60da-4c10-f696-a5b2eaa7c9b8"
      },
      "source": [
        "pip install opencv-python"
      ],
      "execution_count": 1,
      "outputs": [
        {
          "output_type": "stream",
          "text": [
            "Requirement already satisfied: opencv-python in c:\\users\\thoma\\anaconda3\\lib\\site-packages (4.5.1.48)\n",
            "Requirement already satisfied: numpy>=1.17.3 in c:\\users\\thoma\\anaconda3\\lib\\site-packages (from opencv-python) (1.18.5)\n",
            "Note: you may need to restart the kernel to use updated packages.\n"
          ],
          "name": "stdout"
        }
      ]
    },
    {
      "cell_type": "code",
      "metadata": {
        "execution": {
          "iopub.execute_input": "2020-09-29T00:10:18.012794Z",
          "iopub.status.busy": "2020-09-29T00:10:18.011787Z",
          "iopub.status.idle": "2020-09-29T00:10:25.490201Z",
          "shell.execute_reply": "2020-09-29T00:10:25.489473Z"
        },
        "papermill": {
          "duration": 7.50649,
          "end_time": "2020-09-29T00:10:25.490337",
          "exception": false,
          "start_time": "2020-09-29T00:10:17.983847",
          "status": "completed"
        },
        "tags": [],
        "id": "3j_e64fISLKd"
      },
      "source": [
        "import math\n",
        "import numpy as np \n",
        "import pandas as pd \n",
        "from PIL import Image, ImageDraw\n",
        "\n",
        "import matplotlib.pyplot as plt\n",
        "import seaborn as sns\n",
        "\n",
        "from tqdm.notebook import tqdm_notebook as tqdm\n",
        "\n",
        "import random\n",
        "import cv2\n",
        "import splitfolders"
      ],
      "execution_count": 2,
      "outputs": []
    },
    {
      "cell_type": "code",
      "metadata": {
        "_cell_guid": "79c7e3d0-c299-4dcb-8224-4455121ee9b0",
        "_uuid": "d629ff2d2480ee46fbb7e2d37f6b5fab8052498a",
        "execution": {
          "iopub.execute_input": "2020-09-29T00:10:25.533544Z",
          "iopub.status.busy": "2020-09-29T00:10:25.532790Z",
          "iopub.status.idle": "2020-09-29T00:10:26.237229Z",
          "shell.execute_reply": "2020-09-29T00:10:26.236426Z"
        },
        "papermill": {
          "duration": 0.728773,
          "end_time": "2020-09-29T00:10:26.237353",
          "exception": false,
          "start_time": "2020-09-29T00:10:25.508580",
          "status": "completed"
        },
        "tags": [],
        "id": "YsmUFtloSLKp"
      },
      "source": [
        "train_img_dir = 'Downloads/ship_classification/train_v2/'\n",
        "train_seg_csv = 'Downloads/ship_classification/train_ship_segmentations_v2.csv'\n",
        "test_img_dir = 'Downloads/ship_classification/test_v2'\n",
        "traincsv = pd.read_csv('Downloads/ship_classification/train_ship_segmentations_v2.csv')\n",
        "\n",
        "train_img_reduced_dir = 'Downloads/ship_classification_reduced_dataset/'\n",
        "test_img_reduced_dir = 'Downloads/ship_classification_test/'"
      ],
      "execution_count": 3,
      "outputs": []
    },
    {
      "cell_type": "code",
      "metadata": {
        "execution": {
          "iopub.execute_input": "2020-09-29T00:10:26.288850Z",
          "iopub.status.busy": "2020-09-29T00:10:26.287714Z",
          "iopub.status.idle": "2020-09-29T00:10:26.297969Z",
          "shell.execute_reply": "2020-09-29T00:10:26.297218Z"
        },
        "papermill": {
          "duration": 0.042602,
          "end_time": "2020-09-29T00:10:26.298089",
          "exception": false,
          "start_time": "2020-09-29T00:10:26.255487",
          "status": "completed"
        },
        "tags": [],
        "id": "ewfzw8-2SLKq",
        "colab": {
          "base_uri": "https://localhost:8080/",
          "height": 204
        },
        "outputId": "8ea9d3be-4fee-4c91-a732-e75788d89eef"
      },
      "source": [
        "traincsv.head()"
      ],
      "execution_count": 4,
      "outputs": [
        {
          "output_type": "execute_result",
          "data": {
            "text/plain": [
              "         ImageId                                      EncodedPixels\n",
              "0  00003e153.jpg                                                NaN\n",
              "1  0001124c7.jpg                                                NaN\n",
              "2  000155de5.jpg  264661 17 265429 33 266197 33 266965 33 267733...\n",
              "3  000194a2d.jpg  360486 1 361252 4 362019 5 362785 8 363552 10 ...\n",
              "4  000194a2d.jpg  51834 9 52602 9 53370 9 54138 9 54906 9 55674 ..."
            ],
            "text/html": [
              "<div>\n",
              "<style scoped>\n",
              "    .dataframe tbody tr th:only-of-type {\n",
              "        vertical-align: middle;\n",
              "    }\n",
              "\n",
              "    .dataframe tbody tr th {\n",
              "        vertical-align: top;\n",
              "    }\n",
              "\n",
              "    .dataframe thead th {\n",
              "        text-align: right;\n",
              "    }\n",
              "</style>\n",
              "<table border=\"1\" class=\"dataframe\">\n",
              "  <thead>\n",
              "    <tr style=\"text-align: right;\">\n",
              "      <th></th>\n",
              "      <th>ImageId</th>\n",
              "      <th>EncodedPixels</th>\n",
              "    </tr>\n",
              "  </thead>\n",
              "  <tbody>\n",
              "    <tr>\n",
              "      <th>0</th>\n",
              "      <td>00003e153.jpg</td>\n",
              "      <td>NaN</td>\n",
              "    </tr>\n",
              "    <tr>\n",
              "      <th>1</th>\n",
              "      <td>0001124c7.jpg</td>\n",
              "      <td>NaN</td>\n",
              "    </tr>\n",
              "    <tr>\n",
              "      <th>2</th>\n",
              "      <td>000155de5.jpg</td>\n",
              "      <td>264661 17 265429 33 266197 33 266965 33 267733...</td>\n",
              "    </tr>\n",
              "    <tr>\n",
              "      <th>3</th>\n",
              "      <td>000194a2d.jpg</td>\n",
              "      <td>360486 1 361252 4 362019 5 362785 8 363552 10 ...</td>\n",
              "    </tr>\n",
              "    <tr>\n",
              "      <th>4</th>\n",
              "      <td>000194a2d.jpg</td>\n",
              "      <td>51834 9 52602 9 53370 9 54138 9 54906 9 55674 ...</td>\n",
              "    </tr>\n",
              "  </tbody>\n",
              "</table>\n",
              "</div>"
            ]
          },
          "metadata": {
            "tags": []
          },
          "execution_count": 4
        }
      ]
    },
    {
      "cell_type": "markdown",
      "metadata": {
        "id": "ljOaVcwBwU0H"
      },
      "source": [
        "Adding labels"
      ]
    },
    {
      "cell_type": "code",
      "metadata": {
        "execution": {
          "iopub.execute_input": "2020-09-29T00:10:26.371475Z",
          "iopub.status.busy": "2020-09-29T00:10:26.370426Z",
          "iopub.status.idle": "2020-09-29T00:10:26.665455Z",
          "shell.execute_reply": "2020-09-29T00:10:26.664787Z"
        },
        "papermill": {
          "duration": 0.348422,
          "end_time": "2020-09-29T00:10:26.665611",
          "exception": false,
          "start_time": "2020-09-29T00:10:26.317189",
          "status": "completed"
        },
        "tags": [],
        "id": "aQ6uSahSSLKt",
        "colab": {
          "base_uri": "https://localhost:8080/"
        },
        "outputId": "986a8f47-f172-4b14-93e8-1de237033294"
      },
      "source": [
        "c=[]\n",
        "for i in (traincsv[\"EncodedPixels\"].notnull()):\n",
        "\n",
        "    if i==True:\n",
        "        c.append(1)\n",
        "    else:\n",
        "        c.append(0)\n",
        "        \n",
        "traincsv[\"class\"]=c\n",
        "\n",
        "traincsv_unique = traincsv.drop_duplicates(subset=['ImageId'], keep='first')\n",
        "\n",
        "print(traincsv_unique.head())\n",
        "print(\"\\n Shape of the Dataframe:\",traincsv_unique.shape)"
      ],
      "execution_count": 5,
      "outputs": [
        {
          "output_type": "stream",
          "text": [
            "         ImageId                                      EncodedPixels  class\n",
            "0  00003e153.jpg                                                NaN      0\n",
            "1  0001124c7.jpg                                                NaN      0\n",
            "2  000155de5.jpg  264661 17 265429 33 266197 33 266965 33 267733...      1\n",
            "3  000194a2d.jpg  360486 1 361252 4 362019 5 362785 8 363552 10 ...      1\n",
            "8  0001b1832.jpg                                                NaN      0\n",
            "\n",
            " Shape of the Dataframe: (192556, 3)\n"
          ],
          "name": "stdout"
        }
      ]
    },
    {
      "cell_type": "markdown",
      "metadata": {
        "id": "TGDSB0trwXWG"
      },
      "source": [
        "Selecting 10000 train images and 1000 test images from the original dataset"
      ]
    },
    {
      "cell_type": "code",
      "metadata": {
        "execution": {
          "iopub.execute_input": "2020-09-29T00:10:26.711088Z",
          "iopub.status.busy": "2020-09-29T00:10:26.710323Z",
          "iopub.status.idle": "2020-09-29T00:10:26.745628Z",
          "shell.execute_reply": "2020-09-29T00:10:26.744937Z"
        },
        "papermill": {
          "duration": 0.060855,
          "end_time": "2020-09-29T00:10:26.745756",
          "exception": false,
          "start_time": "2020-09-29T00:10:26.684901",
          "status": "completed"
        },
        "tags": [],
        "id": "dgkc2idVSLKu"
      },
      "source": [
        "traincsv_unique = traincsv_unique.sort_values(by = [\"class\"])\n",
        "traincsv_unique.reset_index(drop = True, inplace = True)\n",
        "\n",
        "temp = traincsv_unique\n",
        "traincsv_unique = pd.concat([traincsv_unique.loc[:4999], traincsv_unique.loc[187556:]])\n",
        "testcsv_unique = pd.concat([temp.loc[5000:5499], temp.loc[180000:180499]])"
      ],
      "execution_count": 6,
      "outputs": []
    },
    {
      "cell_type": "code",
      "metadata": {
        "execution": {
          "iopub.execute_input": "2020-09-29T00:10:26.795495Z",
          "iopub.status.busy": "2020-09-29T00:10:26.794499Z",
          "iopub.status.idle": "2020-09-29T00:10:26.799252Z",
          "shell.execute_reply": "2020-09-29T00:10:26.798678Z"
        },
        "papermill": {
          "duration": 0.034164,
          "end_time": "2020-09-29T00:10:26.799378",
          "exception": false,
          "start_time": "2020-09-29T00:10:26.765214",
          "status": "completed"
        },
        "tags": [],
        "id": "WTjsj3ehSLKv",
        "colab": {
          "base_uri": "https://localhost:8080/"
        },
        "outputId": "3b70dda5-500c-4fc2-8f53-2ea6041628b4"
      },
      "source": [
        "traincsv_unique[\"class\"].value_counts()"
      ],
      "execution_count": 7,
      "outputs": [
        {
          "output_type": "execute_result",
          "data": {
            "text/plain": [
              "1    5000\n",
              "0    5000\n",
              "Name: class, dtype: int64"
            ]
          },
          "metadata": {
            "tags": []
          },
          "execution_count": 7
        }
      ]
    },
    {
      "cell_type": "code",
      "metadata": {
        "id": "RqyLlPVbutb1",
        "colab": {
          "base_uri": "https://localhost:8080/"
        },
        "outputId": "99145d82-4505-49ec-f1b3-c930e4d6a1a3"
      },
      "source": [
        "testcsv_unique[\"class\"].value_counts()"
      ],
      "execution_count": 8,
      "outputs": [
        {
          "output_type": "execute_result",
          "data": {
            "text/plain": [
              "1    500\n",
              "0    500\n",
              "Name: class, dtype: int64"
            ]
          },
          "metadata": {
            "tags": []
          },
          "execution_count": 8
        }
      ]
    },
    {
      "cell_type": "code",
      "metadata": {
        "execution": {
          "iopub.execute_input": "2020-09-29T00:10:26.845453Z",
          "iopub.status.busy": "2020-09-29T00:10:26.844559Z",
          "iopub.status.idle": "2020-09-29T00:10:26.847711Z",
          "shell.execute_reply": "2020-09-29T00:10:26.846981Z"
        },
        "papermill": {
          "duration": 0.02828,
          "end_time": "2020-09-29T00:10:26.847833",
          "exception": false,
          "start_time": "2020-09-29T00:10:26.819553",
          "status": "completed"
        },
        "tags": [],
        "id": "KpewxY-tSLKv"
      },
      "source": [
        "paths = traincsv_unique[\"ImageId\"]\n",
        "paths_test = testcsv_unique[\"ImageId\"]"
      ],
      "execution_count": 9,
      "outputs": []
    },
    {
      "cell_type": "markdown",
      "metadata": {
        "id": "Zkj6DAfpwtId"
      },
      "source": [
        "Saving train images in a separate folder"
      ]
    },
    {
      "cell_type": "code",
      "metadata": {
        "execution": {
          "iopub.execute_input": "2020-09-29T00:10:26.922375Z",
          "iopub.status.busy": "2020-09-29T00:10:26.898022Z",
          "iopub.status.idle": "2020-09-29T00:13:45.561499Z",
          "shell.execute_reply": "2020-09-29T00:13:45.562306Z"
        },
        "papermill": {
          "duration": 198.694286,
          "end_time": "2020-09-29T00:13:45.562556",
          "exception": false,
          "start_time": "2020-09-29T00:10:26.868270",
          "status": "completed"
        },
        "tags": [],
        "id": "VgEmsNFCSLKw"
      },
      "source": [
        "for i, f in tqdm(enumerate(paths)):\n",
        "  img = Image.open(train_img_dir+f)\n",
        "  img = img.convert('RGB')\n",
        "\n",
        "  if i <= 5000:\n",
        "    img.save(train_img_reduced_dir+'0/'+f)\n",
        "  else:\n",
        "    img.save(train_img_reduced_dir+'1/'+f)"
      ],
      "execution_count": null,
      "outputs": []
    },
    {
      "cell_type": "markdown",
      "metadata": {
        "id": "SgcAE0Iuwy9e"
      },
      "source": [
        "Saving test images"
      ]
    },
    {
      "cell_type": "code",
      "metadata": {
        "id": "wYEGMngLvZcW"
      },
      "source": [
        "for i, f in tqdm(enumerate(paths_test)):\r\n",
        "  img = Image.open(train_img_dir+f)\r\n",
        "  img = img.convert('RGB')\r\n",
        "\r\n",
        "  if i <= 500:\r\n",
        "    img.save(test_img_reduced_dir+'0/'+f)\r\n",
        "  else:\r\n",
        "    img.save(test_img_reduced_dir+'1/'+f)"
      ],
      "execution_count": null,
      "outputs": []
    },
    {
      "cell_type": "markdown",
      "metadata": {
        "id": "4pmUg2W9w15e"
      },
      "source": [
        "Splitting train images into train and validation "
      ]
    },
    {
      "cell_type": "code",
      "metadata": {
        "id": "0245KqGQeQmR"
      },
      "source": [
        "# Split with a ratio.\r\n",
        "# To only split into training and validation set, set a tuple to `ratio`, i.e, `(.8, .2)`.\r\n",
        "splitfolders.ratio(\"Downloads/ship_classification_reduced_dataset\", output=\"Downloads/ship_classification_train_val\", seed=1337, ratio=(.8, .2), group_prefix=None) # default values\r\n"
      ],
      "execution_count": null,
      "outputs": []
    }
  ]
}